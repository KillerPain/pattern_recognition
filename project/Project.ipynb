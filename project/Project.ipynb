{
 "cells": [
  {
   "cell_type": "code",
   "execution_count": 1,
   "metadata": {},
   "outputs": [
    {
     "name": "stdout",
     "output_type": "stream",
     "text": [
      "  class cap-shape cap-surface cap-color bruises odor gill-attachment  \\\n",
      "0     p         x           s         n       t    p               f   \n",
      "1     e         x           s         y       t    a               f   \n",
      "2     e         b           s         w       t    l               f   \n",
      "\n",
      "  gill-spacing gill-size gill-color   ...   stalk-surface-below-ring  \\\n",
      "0            c         n          k   ...                          s   \n",
      "1            c         b          k   ...                          s   \n",
      "2            c         b          n   ...                          s   \n",
      "\n",
      "  stalk-color-above-ring stalk-color-below-ring veil-type veil-color  \\\n",
      "0                      w                      w         p          w   \n",
      "1                      w                      w         p          w   \n",
      "2                      w                      w         p          w   \n",
      "\n",
      "  ring-number ring-type spore-print-color population habitat  \n",
      "0           o         p                 k          s       u  \n",
      "1           o         p                 n          n       g  \n",
      "2           o         p                 n          n       m  \n",
      "\n",
      "[3 rows x 23 columns]\n"
     ]
    }
   ],
   "source": [
    "import pandas as pd\n",
    "import matplotlib\n",
    "\n",
    "data = pd.read_csv('mushrooms.csv', sep=',')\n",
    "\n",
    "print(data[:3])"
   ]
  },
  {
   "cell_type": "code",
   "execution_count": 2,
   "metadata": {},
   "outputs": [
    {
     "name": "stdout",
     "output_type": "stream",
     "text": [
      "       class cap-shape cap-surface cap-color bruises  odor gill-attachment  \\\n",
      "count   8124      8124        8124      8124    8124  8124            8124   \n",
      "unique     2         6           4        10       2     9               2   \n",
      "top        e         x           y         n       f     n               f   \n",
      "freq    4208      3656        3244      2284    4748  3528            7914   \n",
      "\n",
      "       gill-spacing gill-size gill-color   ...   stalk-surface-below-ring  \\\n",
      "count          8124      8124       8124   ...                       8124   \n",
      "unique            2         2         12   ...                          4   \n",
      "top               c         b          b   ...                          s   \n",
      "freq           6812      5612       1728   ...                       4936   \n",
      "\n",
      "       stalk-color-above-ring stalk-color-below-ring veil-type veil-color  \\\n",
      "count                    8124                   8124      8124       8124   \n",
      "unique                      9                      9         1          4   \n",
      "top                         w                      w         p          w   \n",
      "freq                     4464                   4384      8124       7924   \n",
      "\n",
      "       ring-number ring-type spore-print-color population habitat  \n",
      "count         8124      8124              8124       8124    8124  \n",
      "unique           3         5                 9          6       7  \n",
      "top              o         p                 w          v       d  \n",
      "freq          7488      3968              2388       4040    3148  \n",
      "\n",
      "[4 rows x 23 columns]\n"
     ]
    }
   ],
   "source": [
    "print(data.describe())"
   ]
  },
  {
   "cell_type": "code",
   "execution_count": 42,
   "metadata": {},
   "outputs": [
    {
     "data": {
      "image/png": "[encoded data removed]",
      "text/plain": [
       "<matplotlib.figure.Figure at 0x10db578d0>"
      ]
     },
     "metadata": {},
     "output_type": "display_data"
    }
   ],
   "source": [
    "import numpy as np\n",
    "import matplotlib.pyplot as plt\n",
    "#%matplotlib inline\n",
    "\n",
    "uniques, classNames = np.unique(data['class'], return_inverse=True)\n",
    "uniques, capShapes = np.unique(data['cap-shape'], return_inverse=True)\n",
    "\n",
    "x = classNames\n",
    "y = capShapes\n",
    "plt.scatter(x, y)\n",
    "plt.show()"
   ]
  },
  {
   "cell_type": "code",
   "execution_count": null,
   "metadata": {
    "collapsed": true
   },
   "outputs": [],
   "source": []
  }
 ],
 "metadata": {
  "kernelspec": {
   "display_name": "Python 2",
   "language": "python",
   "name": "python2"
  },
  "language_info": {
   "codemirror_mode": {
    "name": "ipython",
    "version": 2
   },
   "file_extension": ".py",
   "mimetype": "text/x-python",
   "name": "python",
   "nbconvert_exporter": "python",
   "pygments_lexer": "ipython2",
   "version": "2.7.10"
  }
 },
 "nbformat": 4,
 "nbformat_minor": 2
}
